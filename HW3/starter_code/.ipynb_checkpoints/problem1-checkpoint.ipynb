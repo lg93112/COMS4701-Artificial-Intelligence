{
 "cells": [
  {
   "cell_type": "code",
   "execution_count": 46,
   "metadata": {},
   "outputs": [
    {
     "name": "stdout",
     "output_type": "stream",
     "text": [
      "[[  8 -11   1   1]\n",
      " [  7   7   1  -1]\n",
      " [ 12 -20   1   1]\n",
      " [ 14  -3   1  -1]\n",
      " [ 12   8   1  -1]\n",
      " [  1 -12   1   1]\n",
      " [ 15   5   1  -1]\n",
      " [  7 -10   1   1]\n",
      " [ 10   4   1  -1]\n",
      " [  6   2   1   1]\n",
      " [  8  12   1  -1]\n",
      " [  2  20   1  -1]\n",
      " [  1 -12   1   1]\n",
      " [  9   8   1  -1]\n",
      " [  3   3   1   1]\n",
      " [  5   6   1   1]\n",
      " [  1  11   1   1]]\n",
      "[[ 8  3  3]\n",
      " [ 3  9  6]\n",
      " [12  6 10]\n",
      " [ 6  1 12]\n",
      " [ 7  9 15]\n",
      " [ 5  2 16]\n",
      " [ 5 -1 18]\n",
      " [ 6  7 21]\n",
      " [ 3  8 23]\n",
      " [-1 -2 24]\n",
      " [ 2  7 26]\n",
      " [ 3  3 28]\n",
      " [ 3  6 30]\n",
      " [ 0  7 32]\n",
      " [ 1  3 34]\n",
      " [ 1  6 36]\n",
      " [ 2  2 38]\n",
      " [ 2  5 40]\n",
      " [-5 -2 39]]\n"
     ]
    },
    {
     "data": {
      "image/png": "[encoded data removed]",
      "text/plain": [
       "<matplotlib.figure.Figure at 0x111adf850>"
      ]
     },
     "metadata": {},
     "output_type": "display_data"
    }
   ],
   "source": [
    "import numpy as np\n",
    "import pandas as pd\n",
    "from visualize import visualize_scatter\n",
    "\n",
    "# Import input1.csv, without headers for easier indexing\n",
    "raw_d = pd.read_csv('input1.csv', header=None)\n",
    "data = np.insert(raw_d.as_matrix(), 2, 1, axis = 1)\n",
    "\n",
    "print data\n",
    "\n",
    "weights = np.array([0, 0, 0])\n",
    "\n",
    "def perceptron(weights, x):\n",
    "    if np.dot(weights, x[:-1]) > 0:\n",
    "        return 1\n",
    "    else:\n",
    "        return -1\n",
    "\n",
    "output_w = []\n",
    "while 1:\n",
    "    error = False\n",
    "    for x in data:\n",
    "        if x[-1]*perceptron(weights,x) <= 0:\n",
    "            weights = weights + x[-1]*x[:-1]\n",
    "            error = True\n",
    "    if not error:\n",
    "        break\n",
    "    output_w.append(weights)\n",
    "output_w = np.matrix(output_w)\n",
    "print(output_w)\n",
    "pd.DataFrame(output_w).to_csv('output1.csv', header=False, index=False)\n",
    "    \n",
    "visualize_scatter(raw_d, weights = [float(w) for w in weights])"
   ]
  },
  {
   "cell_type": "code",
   "execution_count": null,
   "metadata": {
    "collapsed": true
   },
   "outputs": [],
   "source": []
  }
 ],
 "metadata": {
  "kernelspec": {
   "display_name": "Python 3",
   "language": "python",
   "name": "python3"
  },
  "language_info": {
   "codemirror_mode": {
    "name": "ipython",
    "version": 2
   },
   "file_extension": ".py",
   "mimetype": "text/x-python",
   "name": "python",
   "nbconvert_exporter": "python",
   "pygments_lexer": "ipython2",
   "version": "2.7.14"
  }
 },
 "nbformat": 4,
 "nbformat_minor": 2
}
